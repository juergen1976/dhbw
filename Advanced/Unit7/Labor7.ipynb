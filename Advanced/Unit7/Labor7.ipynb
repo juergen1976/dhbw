{
 "cells": [
  {
   "cell_type": "code",
   "id": "initial_id",
   "metadata": {
    "collapsed": true,
    "ExecuteTime": {
     "end_time": "2024-07-23T15:17:42.586431Z",
     "start_time": "2024-07-23T15:17:42.583844Z"
    }
   },
   "source": [
    "class StringIterator:\n",
    "    def __init__(self, strings):\n",
    "        self.strings = strings\n",
    "        self.index = 0\n",
    "\n",
    "    def __iter__(self):\n",
    "        return self\n",
    "\n",
    "    def __next__(self):\n",
    "        if self.index < len(self.strings):\n",
    "            result = self.strings[self.index]\n",
    "            self.index += 1\n",
    "            return result\n",
    "        raise StopIteration"
   ],
   "outputs": [],
   "execution_count": 25
  },
  {
   "metadata": {
    "ExecuteTime": {
     "end_time": "2024-07-23T15:17:43.626703Z",
     "start_time": "2024-07-23T15:17:43.623641Z"
    }
   },
   "cell_type": "code",
   "source": [
    "strings = [\"hello\", \"world\", \"python\"]\n",
    "iterator = StringIterator(strings)\n",
    "for string in iterator:\n",
    "    print(string)"
   ],
   "id": "15bff82c872d4192",
   "outputs": [
    {
     "name": "stdout",
     "output_type": "stream",
     "text": [
      "hello\n",
      "world\n",
      "python\n"
     ]
    }
   ],
   "execution_count": 26
  },
  {
   "metadata": {
    "ExecuteTime": {
     "end_time": "2024-07-23T15:35:08.491130Z",
     "start_time": "2024-07-23T15:35:08.487132Z"
    }
   },
   "cell_type": "code",
   "source": [
    "# Number iterator with some extra information methods\n",
    "class NumberIterator:\n",
    "    def __init__(self, numbers):\n",
    "        if not isinstance(numbers, list):\n",
    "            raise ValueError(\"Input must be a list of integers.\")\n",
    "        if not all(isinstance(n, int) for n in numbers):\n",
    "            raise ValueError(\"All elements in the list must be integers.\")\n",
    "        \n",
    "        self.numbers = numbers\n",
    "        self.index = -1\n",
    "\n",
    "    def __iter__(self):\n",
    "        return self\n",
    "\n",
    "    def __next__(self):\n",
    "        self.index += 1\n",
    "        if self.index >= len(self.numbers):\n",
    "            raise StopIteration\n",
    "        return self.numbers[self.index]\n",
    "\n",
    "    def is_prime(self, n=None):\n",
    "        if n is None:\n",
    "            if self.index == -1:\n",
    "                raise ValueError(\"Iterator has not been advanced. No current number to check.\")\n",
    "            n = self.numbers[self.index]\n",
    "        if n < 2:\n",
    "            return False\n",
    "        for i in range(2, int(n ** 0.5) + 1):\n",
    "            if n % i == 0:\n",
    "                return False\n",
    "        return True\n",
    "    "
   ],
   "id": "68de59e5303f46b2",
   "outputs": [],
   "execution_count": 31
  },
  {
   "metadata": {
    "ExecuteTime": {
     "end_time": "2024-07-23T15:42:38.770641Z",
     "start_time": "2024-07-23T15:42:38.768215Z"
    }
   },
   "cell_type": "code",
   "source": [
    "numbers = [1, 2, 3, 4, 5, 6, 7, 8, 9, 10]\n",
    "number_iter = NumberIterator(numbers)\n",
    "for num in number_iter:\n",
    "    print(num)\n",
    "    print(number_iter.is_prime())\n",
    "\n",
    "    "
   ],
   "id": "66bff904455b33d6",
   "outputs": [
    {
     "name": "stdout",
     "output_type": "stream",
     "text": [
      "1\n",
      "False\n",
      "2\n",
      "True\n",
      "3\n",
      "True\n",
      "4\n",
      "False\n",
      "5\n",
      "True\n",
      "6\n",
      "False\n",
      "7\n",
      "True\n",
      "8\n",
      "False\n",
      "9\n",
      "False\n",
      "10\n",
      "False\n"
     ]
    }
   ],
   "execution_count": 33
  },
  {
   "metadata": {},
   "cell_type": "code",
   "outputs": [],
   "execution_count": null,
   "source": "",
   "id": "f4aa6cd008cb4b59"
  }
 ],
 "metadata": {
  "kernelspec": {
   "display_name": "Python 3",
   "language": "python",
   "name": "python3"
  },
  "language_info": {
   "codemirror_mode": {
    "name": "ipython",
    "version": 2
   },
   "file_extension": ".py",
   "mimetype": "text/x-python",
   "name": "python",
   "nbconvert_exporter": "python",
   "pygments_lexer": "ipython2",
   "version": "2.7.6"
  }
 },
 "nbformat": 4,
 "nbformat_minor": 5
}
