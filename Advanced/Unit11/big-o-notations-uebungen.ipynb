{
 "cells": [
  {
   "metadata": {},
   "cell_type": "markdown",
   "source": "# Übung 1 - Big O Notation",
   "id": "d75b68351ebe9f96"
  },
  {
   "metadata": {
    "ExecuteTime": {
     "end_time": "2024-08-04T16:45:42.567586Z",
     "start_time": "2024-08-04T16:45:42.565203Z"
    }
   },
   "cell_type": "code",
   "source": [
    "def example_function(arr):\n",
    "    for i in range(len(arr)):\n",
    "        for j in range(10):\n",
    "            print(arr[i], j)\n"
   ],
   "id": "b47431251f25e9b",
   "outputs": [],
   "execution_count": 1
  },
  {
   "metadata": {},
   "cell_type": "markdown",
   "source": "Frage: Welche Big O Notation hat die Funktion example_function?",
   "id": "69b59ea1c9338347"
  },
  {
   "metadata": {},
   "cell_type": "markdown",
   "source": "## Lösung",
   "id": "d5d9a18e08a852a7"
  },
  {
   "metadata": {},
   "cell_type": "markdown",
   "source": "Antwort: O(n) - linear",
   "id": "696b2e1f8df835b8"
  },
  {
   "metadata": {},
   "cell_type": "markdown",
   "source": "# Übung 2 - Big O Notation",
   "id": "f01d7682994a80d"
  },
  {
   "metadata": {
    "ExecuteTime": {
     "end_time": "2024-08-06T08:06:07.500831Z",
     "start_time": "2024-08-06T08:06:07.498097Z"
    }
   },
   "cell_type": "code",
   "source": [
    "def factorial(n):\n",
    "    if n == 0:\n",
    "        return 1\n",
    "    else:\n",
    "        return n * factorial(n-1)\n"
   ],
   "id": "b03a0857d6d7b8e0",
   "outputs": [],
   "execution_count": 7
  },
  {
   "metadata": {
    "ExecuteTime": {
     "end_time": "2024-08-06T08:14:39.816512Z",
     "start_time": "2024-08-06T08:14:39.276104Z"
    }
   },
   "cell_type": "code",
   "source": "print(factorial(30000))",
   "id": "6249b5e683592ba0",
   "outputs": [
    {
     "ename": "RecursionError",
     "evalue": "maximum recursion depth exceeded",
     "output_type": "error",
     "traceback": [
      "\u001B[0;31m---------------------------------------------------------------------------\u001B[0m",
      "\u001B[0;31mRecursionError\u001B[0m                            Traceback (most recent call last)",
      "Cell \u001B[0;32mIn[11], line 1\u001B[0m\n\u001B[0;32m----> 1\u001B[0m \u001B[38;5;28mprint\u001B[39m(factorial(\u001B[38;5;241m30000\u001B[39m))\n",
      "Cell \u001B[0;32mIn[7], line 5\u001B[0m, in \u001B[0;36mfactorial\u001B[0;34m(n)\u001B[0m\n\u001B[1;32m      3\u001B[0m     \u001B[38;5;28;01mreturn\u001B[39;00m \u001B[38;5;241m1\u001B[39m\n\u001B[1;32m      4\u001B[0m \u001B[38;5;28;01melse\u001B[39;00m:\n\u001B[0;32m----> 5\u001B[0m     \u001B[38;5;28;01mreturn\u001B[39;00m n \u001B[38;5;241m*\u001B[39m factorial(n\u001B[38;5;241m-\u001B[39m\u001B[38;5;241m1\u001B[39m)\n",
      "Cell \u001B[0;32mIn[7], line 5\u001B[0m, in \u001B[0;36mfactorial\u001B[0;34m(n)\u001B[0m\n\u001B[1;32m      3\u001B[0m     \u001B[38;5;28;01mreturn\u001B[39;00m \u001B[38;5;241m1\u001B[39m\n\u001B[1;32m      4\u001B[0m \u001B[38;5;28;01melse\u001B[39;00m:\n\u001B[0;32m----> 5\u001B[0m     \u001B[38;5;28;01mreturn\u001B[39;00m n \u001B[38;5;241m*\u001B[39m factorial(n\u001B[38;5;241m-\u001B[39m\u001B[38;5;241m1\u001B[39m)\n",
      "    \u001B[0;31m[... skipping similar frames: factorial at line 5 (2975 times)]\u001B[0m\n",
      "Cell \u001B[0;32mIn[7], line 5\u001B[0m, in \u001B[0;36mfactorial\u001B[0;34m(n)\u001B[0m\n\u001B[1;32m      3\u001B[0m     \u001B[38;5;28;01mreturn\u001B[39;00m \u001B[38;5;241m1\u001B[39m\n\u001B[1;32m      4\u001B[0m \u001B[38;5;28;01melse\u001B[39;00m:\n\u001B[0;32m----> 5\u001B[0m     \u001B[38;5;28;01mreturn\u001B[39;00m n \u001B[38;5;241m*\u001B[39m factorial(n\u001B[38;5;241m-\u001B[39m\u001B[38;5;241m1\u001B[39m)\n",
      "\u001B[0;31mRecursionError\u001B[0m: maximum recursion depth exceeded"
     ]
    }
   ],
   "execution_count": 11
  },
  {
   "metadata": {},
   "cell_type": "markdown",
   "source": "Frage: Welche Big O Notation hat die Funktion factorial?",
   "id": "67c0b6528195e4ae"
  },
  {
   "metadata": {},
   "cell_type": "markdown",
   "source": "## Lösung",
   "id": "b4cddc068a4fb162"
  },
  {
   "metadata": {},
   "cell_type": "markdown",
   "source": "Antwort: O(n) - linear",
   "id": "2594634027a57b07"
  },
  {
   "metadata": {},
   "cell_type": "markdown",
   "source": "# Übung 3 - Big O Notation",
   "id": "4edcd3a2a6fe900b"
  },
  {
   "metadata": {
    "ExecuteTime": {
     "end_time": "2024-08-06T08:08:31.044998Z",
     "start_time": "2024-08-06T08:08:31.041845Z"
    }
   },
   "cell_type": "code",
   "source": [
    "# Gegebene funktion, optimiere diese Funktion für eine bessere Laufzeit. Laufzeit ist O(n^2)\n",
    "def has_duplicate(arr):\n",
    "    for i in range(len(arr)):\n",
    "        for j in range(i+1, len(arr)):\n",
    "            if arr[i] == arr[j]:\n",
    "                return True\n",
    "    return False\n"
   ],
   "id": "edb72369874de86c",
   "outputs": [],
   "execution_count": 9
  },
  {
   "metadata": {
    "ExecuteTime": {
     "end_time": "2024-08-04T16:49:49.126906Z",
     "start_time": "2024-08-04T16:49:49.124753Z"
    }
   },
   "cell_type": "code",
   "source": "print(has_duplicate([1, 2, 3, 4, 5, 6, 7, 8, 9, 10]))",
   "id": "924f1db031129ca6",
   "outputs": [
    {
     "name": "stdout",
     "output_type": "stream",
     "text": [
      "False\n"
     ]
    }
   ],
   "execution_count": 10
  },
  {
   "metadata": {
    "ExecuteTime": {
     "end_time": "2024-08-04T16:58:35.540469Z",
     "start_time": "2024-08-04T16:58:35.538269Z"
    }
   },
   "cell_type": "code",
   "source": "print(has_duplicate([1, 2, 3, 4, 5, 6, 7, 8, 9, 10, 10]))",
   "id": "9687f1d1d3475225",
   "outputs": [
    {
     "name": "stdout",
     "output_type": "stream",
     "text": [
      "True\n"
     ]
    }
   ],
   "execution_count": 15
  },
  {
   "metadata": {},
   "cell_type": "markdown",
   "source": "## Lösung",
   "id": "b47fba7c2bba3e06"
  },
  {
   "metadata": {
    "ExecuteTime": {
     "end_time": "2024-08-04T16:50:34.085657Z",
     "start_time": "2024-08-04T16:50:34.083136Z"
    }
   },
   "cell_type": "code",
   "source": [
    "# Optimierte Funktion - Laufzeit ist O(n)\n",
    "def has_duplicate(arr):\n",
    "    seen = set()\n",
    "    for value in arr:\n",
    "        if value in seen:\n",
    "            return True\n",
    "        seen.add(value)\n",
    "    return False\n"
   ],
   "id": "c7829aad85c8c97e",
   "outputs": [],
   "execution_count": 12
  },
  {
   "metadata": {
    "ExecuteTime": {
     "end_time": "2024-08-04T16:50:35.951886Z",
     "start_time": "2024-08-04T16:50:35.949922Z"
    }
   },
   "cell_type": "code",
   "source": "print(has_duplicate([1, 2, 3, 4, 5, 6, 7, 8, 9, 10]))",
   "id": "effb128d75d26776",
   "outputs": [
    {
     "name": "stdout",
     "output_type": "stream",
     "text": [
      "False\n"
     ]
    }
   ],
   "execution_count": 13
  },
  {
   "metadata": {
    "ExecuteTime": {
     "end_time": "2024-08-04T16:50:37.680097Z",
     "start_time": "2024-08-04T16:50:37.678002Z"
    }
   },
   "cell_type": "code",
   "source": "print(has_duplicate([1, 2, 3, 4, 5, 6, 7, 8, 9, 10, 10]))",
   "id": "4d484a660911fc33",
   "outputs": [
    {
     "name": "stdout",
     "output_type": "stream",
     "text": [
      "True\n"
     ]
    }
   ],
   "execution_count": 14
  },
  {
   "metadata": {},
   "cell_type": "markdown",
   "source": "# Übung 4 - Big O Notation",
   "id": "1c77195ac61fb0a2"
  },
  {
   "metadata": {},
   "cell_type": "code",
   "outputs": [],
   "execution_count": null,
   "source": [
    "# Optimiere diese Funktion, was ist die BigO Notation ?\n",
    "def find_two_sum_naive(arr, target):\n",
    "    n = len(arr)\n",
    "    for i in range(n):\n",
    "        for j in range(i + 1, n):\n",
    "            if arr[i] + arr[j] == target:\n",
    "                return (i, j)\n",
    "    return (-1, -1)\n",
    "\n",
    "# Beispielhafte Verwendung\n",
    "arr = [1, 2, 3, 4, 6]\n",
    "target = 6\n",
    "indices = find_two_sum_naive(arr, target)\n",
    "print(f\"Indizes der Elemente, die die Zielsumme ergeben: {indices}\")\n"
   ],
   "id": "aaa33f62876da97d"
  },
  {
   "metadata": {},
   "cell_type": "markdown",
   "source": "## Lösung",
   "id": "ed82f94668f9735e"
  },
  {
   "metadata": {
    "ExecuteTime": {
     "end_time": "2024-08-04T17:00:38.231470Z",
     "start_time": "2024-08-04T17:00:38.227610Z"
    }
   },
   "cell_type": "code",
   "source": [
    "# Optimierter Funktion - Laufzeit ist O(n)\n",
    "def find_two_sum_optimized(arr, target):\n",
    "    left = 0\n",
    "    right = len(arr) - 1\n",
    "\n",
    "    while left < right:\n",
    "        current_sum = arr[left] + arr[right]\n",
    "        if current_sum == target:\n",
    "            return (left, right)\n",
    "        elif current_sum < target:\n",
    "            left += 1\n",
    "        else:\n",
    "            right -= 1\n",
    "\n",
    "    return (-1, -1)\n",
    "\n",
    "# Beispielhafte Verwendung\n",
    "arr = [1, 2, 3, 4, 6]\n",
    "target = 6\n",
    "indices = find_two_sum_optimized(arr, target)\n",
    "print(f\"Indizes der Elemente, die die Zielsumme ergeben: {indices}\")\n"
   ],
   "id": "951d7005aa226331",
   "outputs": [
    {
     "name": "stdout",
     "output_type": "stream",
     "text": [
      "Indizes der Elemente, die die Zielsumme ergeben: (1, 3)\n"
     ]
    }
   ],
   "execution_count": 17
  },
  {
   "metadata": {},
   "cell_type": "markdown",
   "source": "## Zusatzlösung, alle Paare zurückgeben\n",
   "id": "9d2943a688b16031"
  },
  {
   "metadata": {
    "ExecuteTime": {
     "end_time": "2024-08-04T17:01:41.397090Z",
     "start_time": "2024-08-04T17:01:41.394977Z"
    }
   },
   "cell_type": "code",
   "source": [
    "def find_all_two_sum_pairs(arr, target):\n",
    "    left = 0\n",
    "    right = len(arr) - 1\n",
    "    result = []\n",
    "\n",
    "    while left < right:\n",
    "        current_sum = arr[left] + arr[right]\n",
    "        if current_sum == target:\n",
    "            result.append((left, right))\n",
    "            left += 1\n",
    "            right -= 1\n",
    "        elif current_sum < target:\n",
    "            left += 1\n",
    "        else:\n",
    "            right -= 1\n",
    "\n",
    "    return result\n",
    "\n",
    "# Beispielhafte Verwendung\n",
    "arr = [1, 2, 2, 3, 4, 6]\n",
    "target = 4\n",
    "pairs = find_all_two_sum_pairs(arr, target)\n",
    "print(f\"Alle Paare, die die Zielsumme ergeben: {pairs}\")\n"
   ],
   "id": "84d99b5e6e8adabc",
   "outputs": [
    {
     "name": "stdout",
     "output_type": "stream",
     "text": [
      "Alle Paare, die die Zielsumme ergeben: [(0, 3), (1, 2)]\n"
     ]
    }
   ],
   "execution_count": 18
  },
  {
   "metadata": {},
   "cell_type": "code",
   "outputs": [],
   "execution_count": null,
   "source": "",
   "id": "6357a06efb90185a"
  }
 ],
 "metadata": {
  "kernelspec": {
   "display_name": "Python 3",
   "language": "python",
   "name": "python3"
  },
  "language_info": {
   "codemirror_mode": {
    "name": "ipython",
    "version": 2
   },
   "file_extension": ".py",
   "mimetype": "text/x-python",
   "name": "python",
   "nbconvert_exporter": "python",
   "pygments_lexer": "ipython2",
   "version": "2.7.6"
  }
 },
 "nbformat": 4,
 "nbformat_minor": 5
}
