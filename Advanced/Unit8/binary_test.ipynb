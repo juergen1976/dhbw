{
 "cells": [
  {
   "cell_type": "code",
   "id": "initial_id",
   "metadata": {
    "collapsed": true,
    "ExecuteTime": {
     "end_time": "2024-07-30T15:42:45.515324Z",
     "start_time": "2024-07-30T15:42:45.512179Z"
    }
   },
   "source": [
    "def binary_search(arr, target, low, high):\n",
    "    if low > high:\n",
    "        return -1  # Base case: target not found\n",
    "    mid = (low + high) // 2\n",
    "    if arr[mid] == target:\n",
    "        return mid  # Base case: target found\n",
    "    elif arr[mid] < target:\n",
    "        return binary_search(arr, target, mid + 1, high)  # Search the right half\n",
    "    else:\n",
    "        return binary_search(arr, target, low, mid - 1)  # Search the left half"
   ],
   "outputs": [],
   "execution_count": 9
  },
  {
   "metadata": {
    "ExecuteTime": {
     "end_time": "2024-07-30T15:43:30.720803Z",
     "start_time": "2024-07-30T15:43:28.226703Z"
    }
   },
   "cell_type": "code",
   "source": [
    "# Messung der eigenen Implementierung in Python\n",
    "import time\n",
    "# time complexity: O(log n)\n",
    "# create array with values from 1 to 183394944\n",
    "arr = [i for i in range(1, 183394944)]\n",
    "target = 83394944\n",
    "start = time.time()\n",
    "result = binary_search(arr, target, 0, len(arr) - 1)\n",
    "end = time.time()\n",
    "print(\"Index of target: \" + str(result))\n",
    "print(str(end - start) + \" seconds\")"
   ],
   "id": "8593670dcf6948e4",
   "outputs": [
    {
     "name": "stdout",
     "output_type": "stream",
     "text": [
      "Index of target: 83394943\n",
      "6.508827209472656e-05 seconds\n"
     ]
    }
   ],
   "execution_count": 12
  },
  {
   "metadata": {
    "ExecuteTime": {
     "end_time": "2024-07-30T15:43:31.869003Z",
     "start_time": "2024-07-30T15:43:31.634503Z"
    }
   },
   "cell_type": "code",
   "source": [
    "# Messung der numpy Implementierung (np.where) in Python, welche intern in C implementiert ist\n",
    "import time\n",
    "import numpy as np\n",
    "numpy_array = np.arange(1, 183394944)\n",
    "target = 83394944\n",
    "start = time.time()\n",
    "np.where(numpy_array == target)\n",
    "end = time.time()\n",
    "print(\"Index of target: \" + str(result))\n",
    "print(str(end - start) + \" seconds\")"
   ],
   "id": "82112f03a8bdd14f",
   "outputs": [
    {
     "name": "stdout",
     "output_type": "stream",
     "text": [
      "Index of target: 83394943\n",
      "0.052919864654541016 seconds\n"
     ]
    }
   ],
   "execution_count": 13
  },
  {
   "metadata": {},
   "cell_type": "code",
   "outputs": [],
   "execution_count": null,
   "source": "",
   "id": "21ae7e7b92f0e724"
  }
 ],
 "metadata": {
  "kernelspec": {
   "display_name": "Python 3",
   "language": "python",
   "name": "python3"
  },
  "language_info": {
   "codemirror_mode": {
    "name": "ipython",
    "version": 2
   },
   "file_extension": ".py",
   "mimetype": "text/x-python",
   "name": "python",
   "nbconvert_exporter": "python",
   "pygments_lexer": "ipython2",
   "version": "2.7.6"
  }
 },
 "nbformat": 4,
 "nbformat_minor": 5
}
