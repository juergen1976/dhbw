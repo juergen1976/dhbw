{
 "cells": [
  {
   "cell_type": "code",
   "id": "initial_id",
   "metadata": {
    "collapsed": true,
    "ExecuteTime": {
     "end_time": "2024-07-23T15:04:34.163118Z",
     "start_time": "2024-07-23T15:04:34.160927Z"
    }
   },
   "source": [
    "# Create a tuple with list of students\n",
    "student_names = (\"John\", \"Jane\", \"Bob\", \"Alice\")\n"
   ],
   "outputs": [],
   "execution_count": 40
  },
  {
   "metadata": {
    "ExecuteTime": {
     "end_time": "2024-07-23T15:04:35.161137Z",
     "start_time": "2024-07-23T15:04:35.158875Z"
    }
   },
   "cell_type": "code",
   "source": [
    "# Access the first element of the tuple\n",
    "print(student_names[0])  # Accessing John"
   ],
   "id": "52e1af65fb302738",
   "outputs": [
    {
     "name": "stdout",
     "output_type": "stream",
     "text": [
      "John\n"
     ]
    }
   ],
   "execution_count": 41
  },
  {
   "metadata": {
    "ExecuteTime": {
     "end_time": "2024-07-23T15:04:47.423659Z",
     "start_time": "2024-07-23T15:04:47.421119Z"
    }
   },
   "cell_type": "code",
   "source": [
    "# Convert the tuple to a list\n",
    "student_list = list(student_names)\n",
    "print(student_list)"
   ],
   "id": "86f1e2a5ad7322a0",
   "outputs": [
    {
     "name": "stdout",
     "output_type": "stream",
     "text": [
      "['John', 'Jane', 'Bob', 'Alice']\n"
     ]
    }
   ],
   "execution_count": 42
  },
  {
   "metadata": {
    "ExecuteTime": {
     "end_time": "2024-07-23T15:04:56.985080Z",
     "start_time": "2024-07-23T15:04:56.982671Z"
    }
   },
   "cell_type": "code",
   "source": [
    "# Convert the list to set\n",
    "student_set = set(student_list)"
   ],
   "id": "6adb223efece431a",
   "outputs": [],
   "execution_count": 43
  },
  {
   "metadata": {
    "ExecuteTime": {
     "end_time": "2024-07-23T15:05:19.661690Z",
     "start_time": "2024-07-23T15:05:19.658861Z"
    }
   },
   "cell_type": "code",
   "source": [
    "# Show memory footprint of the tuple and list and set\n",
    "import sys\n",
    "print(f\"Tuple size in bytes: {sys.getsizeof(student_names)}\")  # 72 bytes # Tuples require less memory than lists because they are immutable and store only the references to the elements.\n",
    "print(f\"List size in bytes: {sys.getsizeof(student_list)}\")  # 88 bytes # Lists require more memory than tuples because they store additional information for handling dynamic resizing (e.g., pointers to the next element, previous element, and the list itself).\n",
    "print(f\"Set size in bytes: {sys.getsizeof(student_set)}\")  # 216 bytes # Sets require more memory than lists and tuples because they store additional information for maintaining the hash table (e.g., hash values, pointers for handling collisions).\n"
   ],
   "id": "db77f7dee44084d2",
   "outputs": [
    {
     "name": "stdout",
     "output_type": "stream",
     "text": [
      "Tuple size in bytes: 72\n",
      "List size in bytes: 88\n",
      "Set size in bytes: 216\n"
     ]
    }
   ],
   "execution_count": 44
  },
  {
   "metadata": {
    "ExecuteTime": {
     "end_time": "2024-07-23T15:07:04.750567Z",
     "start_time": "2024-07-23T15:07:04.747861Z"
    }
   },
   "cell_type": "code",
   "source": [
    "# create iterator object and iterate over it\n",
    "iterator_object = iter(student_names)\n",
    "while True:\n",
    "    try:\n",
    "        print(next(iterator_object))\n",
    "    except StopIteration:\n",
    "        break"
   ],
   "id": "ae580699eaba9f93",
   "outputs": [
    {
     "name": "stdout",
     "output_type": "stream",
     "text": [
      "John\n",
      "Jane\n",
      "Bob\n",
      "Alice\n"
     ]
    }
   ],
   "execution_count": 45
  },
  {
   "metadata": {
    "ExecuteTime": {
     "end_time": "2024-07-23T15:07:17.326298Z",
     "start_time": "2024-07-23T15:07:17.323491Z"
    }
   },
   "cell_type": "code",
   "source": [
    "# Iterate over the tuple using a for loop\n",
    "for student in student_names:\n",
    "    print(student)"
   ],
   "id": "4cff9e2ec60f26de",
   "outputs": [
    {
     "name": "stdout",
     "output_type": "stream",
     "text": [
      "John\n",
      "Jane\n",
      "Bob\n",
      "Alice\n"
     ]
    }
   ],
   "execution_count": 46
  },
  {
   "metadata": {
    "ExecuteTime": {
     "end_time": "2024-07-23T15:07:33.973019Z",
     "start_time": "2024-07-23T15:07:33.970133Z"
    }
   },
   "cell_type": "code",
   "source": [
    "# create all the elements with numpy\n",
    "import numpy as np\n",
    "np_array = np.array(student_names)\n",
    "# show memory footprint of the numpy array\n",
    "print(f\"NumPy array size in bytes: {sys.getsizeof(np_array)}\")  # 192 bytes # NumPy arrays require more memory than tuples because they store additional information for handling multidimensional arrays (e.g., shape, data type, and strides).\n"
   ],
   "id": "130eec3e09f424ab",
   "outputs": [
    {
     "name": "stdout",
     "output_type": "stream",
     "text": [
      "NumPy array size in bytes: 192\n"
     ]
    }
   ],
   "execution_count": 47
  },
  {
   "metadata": {
    "ExecuteTime": {
     "end_time": "2024-07-23T15:08:31.515715Z",
     "start_time": "2024-07-23T15:08:31.287901Z"
    }
   },
   "cell_type": "code",
   "source": [
    "# Create 1000000 random integer numbers and store them in a list and in numpy array\n",
    "import random\n",
    "random_numbers = [random.randint(0, 100) for _ in range(1000000)]\n",
    "np_random_numbers = np.array(random_numbers)\n",
    "# show memory footprint of the list and numpy array\n",
    "print(f\"List size in bytes: {sys.getsizeof(random_numbers)}\")  # 8448728 bytes\n",
    "print(f\"NumPy array size in bytes: {sys.getsizeof(np_random_numbers)}\")  # 8000112 bytes\n",
    "\n",
    "# NumPy arrays require less memory than lists because they store only the data and the data type, while lists store additional information for handling dynamic resizing (e.g., pointers to the next element, previous element, and the list itself).\n",
    "# NumPy arrays require more memory than tuples because they store additional information for handling multidimensional arrays (e.g., shape, data type, and strides).\n",
    "\n"
   ],
   "id": "7956eba2dc281031",
   "outputs": [
    {
     "name": "stdout",
     "output_type": "stream",
     "text": [
      "List size in bytes: 8448728\n",
      "NumPy array size in bytes: 8000112\n"
     ]
    }
   ],
   "execution_count": 48
  },
  {
   "metadata": {},
   "cell_type": "code",
   "outputs": [
    {
     "name": "stdout",
     "output_type": "stream",
     "text": [
      "List access time: 4.100799560546875e-05 seconds\n",
      "NumPy array access time: 3.2901763916015625e-05 seconds\n"
     ]
    }
   ],
   "execution_count": 49,
   "source": [
    "# Test access time of the list and numpy array\n",
    "import time\n",
    "start_time = time.time()\n",
    "random_numbers[500000]\n",
    "end_time = time.time()\n",
    "print(f\"List access time: {end_time - start_time} seconds\")  # 0.0 seconds\n",
    "\n",
    "start_time = time.time()\n",
    "np_random_numbers[500000]\n",
    "end_time = time.time()\n",
    "print(f\"NumPy array access time: {end_time - start_time} seconds\")  # 0.0 seconds\n",
    "\n"
   ],
   "id": "4fd9fd0c7bffc0de"
  },
  {
   "metadata": {},
   "cell_type": "code",
   "outputs": [
    {
     "name": "stdout",
     "output_type": "stream",
     "text": [
      "List filter time: 0.017446041107177734 seconds\n",
      "NumPy array filter time: 0.0055999755859375 seconds\n"
     ]
    }
   ],
   "execution_count": 51,
   "source": [
    "# Test filter time of the list and numpy array\n",
    "start_time = time.time()\n",
    "filtered_list = [number for number in random_numbers if number > 50]\n",
    "end_time = time.time()\n",
    "print(f\"List filter time: {end_time - start_time} seconds\")  # 0.0 seconds\n",
    "\n",
    "start_time = time.time()\n",
    "filtered_np_array = np_random_numbers[np_random_numbers > 50]\n",
    "end_time = time.time()\n",
    "print(f\"NumPy array filter time: {end_time - start_time} seconds\")  # 0.0 seconds"
   ],
   "id": "efec1fde933c1154"
  },
  {
   "metadata": {},
   "cell_type": "code",
   "outputs": [],
   "execution_count": null,
   "source": "",
   "id": "421f0e04bfa1f6a2"
  }
 ],
 "metadata": {
  "kernelspec": {
   "display_name": "Python 3",
   "language": "python",
   "name": "python3"
  },
  "language_info": {
   "codemirror_mode": {
    "name": "ipython",
    "version": 2
   },
   "file_extension": ".py",
   "mimetype": "text/x-python",
   "name": "python",
   "nbconvert_exporter": "python",
   "pygments_lexer": "ipython2",
   "version": "2.7.6"
  }
 },
 "nbformat": 4,
 "nbformat_minor": 5
}
